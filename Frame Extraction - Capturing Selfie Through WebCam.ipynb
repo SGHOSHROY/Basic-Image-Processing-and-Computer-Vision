{
 "cells": [
  {
   "cell_type": "markdown",
   "id": "309df21d",
   "metadata": {},
   "source": [
    "<h3 style=\"color: tomato;\"> Importing Libraries </h4>"
   ]
  },
  {
   "cell_type": "code",
   "execution_count": 1,
   "id": "f4b8ce0e",
   "metadata": {},
   "outputs": [],
   "source": [
    "import cv2\n",
    "import matplotlib.pyplot as plt\n",
    "import numpy as np"
   ]
  },
  {
   "cell_type": "markdown",
   "id": "329003ec",
   "metadata": {},
   "source": [
    "## 1. Frame Extraction : Capturing Selfie Through WebCam"
   ]
  },
  {
   "cell_type": "markdown",
   "id": "9334e56b",
   "metadata": {},
   "source": [
    "<h3>Taking A Selfie</h3>"
   ]
  },
  {
   "cell_type": "markdown",
   "id": "54a47b9b",
   "metadata": {},
   "source": [
    "Remember that the ASCII of enter is 13. It is important as we are going to use the enter key to click our photo. We can take a selfie using basic if condition:"
   ]
  },
  {
   "cell_type": "raw",
   "id": "aba5c10a",
   "metadata": {},
   "source": [
    "if (key == 13):\n",
    "   cv.imwrite(“Selfie.png”,img)\n",
    "   cam.release()\n",
    "   break"
   ]
  },
  {
   "cell_type": "markdown",
   "id": "0face82d",
   "metadata": {},
   "source": [
    "This piece of code can be used to take a selfie. The image will be saved in your current working directory. We can also take a Black and White and HSV image by using:\n",
    "\n",
    "<code>gray = cv.cvtColor(img, cv.COLOR_RGB2GRAY)</code></br>\n",
    "<code>hsv   = cv.cvtColor(img, cv.COLOR_RGB2HSV)</code>\n",
    "\n",
    "and then cv.write for both gray and hsv."
   ]
  },
  {
   "cell_type": "code",
   "execution_count": null,
   "id": "d14fdb78",
   "metadata": {},
   "outputs": [],
   "source": [
    "cam = cv2.VideoCapture(0)\n",
    "while True:\n",
    "\n",
    "    _, img = cam.read()\n",
    "    \n",
    "    img = cv2.flip(img, 1) \n",
    "    \n",
    "    gray = cv2.cvtColor(img, cv2.COLOR_RGB2GRAY)\n",
    "    hsv  = cv2.cvtColor(img, cv2.COLOR_RGB2HSV)\n",
    "   \n",
    "    cv2.imshow(\"Frame\",img)\n",
    "    \n",
    "    key = cv2.waitKey(20)\n",
    "    \n",
    "    if (key == 13):\n",
    "        \n",
    "        cv2.imwrite('Selfie.png', img)\n",
    "        cv2.imwrite('Selfie_Gray.png', gray)\n",
    "        cv2.imwrite('Selfie_HSV.png', hsv)\n",
    "        cam.release()\n",
    "        \n",
    "        break\n",
    "        \n",
    "    if (key == 27):\n",
    "        cam.release()     \n",
    "        break"
   ]
  },
  {
   "cell_type": "markdown",
   "id": "67417c01",
   "metadata": {},
   "source": [
    "<h3>Taking Multiple Selfies</h3>"
   ]
  },
  {
   "cell_type": "markdown",
   "id": "03264363",
   "metadata": {},
   "source": [
    "By multiple selfies we mean that each time we press enter we could click a selfie and won’t release the camera seems pretty easy right, But the main problem here is the name of selfie as each time we press enter we would end up with only one image taken at last as it would overwrite the previous image every time enter is pressed due to naming conflict. So, we have to click a selfie in such a way that whenever we press enter a selfie is clicked and a name is dynamically given to it. So, the next time we press enter another selfie is clicked and saved with a different name.\n",
    "\n",
    "To achieve this dynamic naming, we use a variable ‘c’ every time enter is pressed the value of c gets incremented by 1. Therefore, each image will have a different name"
   ]
  },
  {
   "cell_type": "code",
   "execution_count": 3,
   "id": "8a2000c1",
   "metadata": {},
   "outputs": [],
   "source": [
    "import cv2 as cv\n",
    "import matplotlib.pyplot as plt\n",
    "import numpy as np"
   ]
  },
  {
   "cell_type": "code",
   "execution_count": 4,
   "id": "45dd7c8b",
   "metadata": {},
   "outputs": [],
   "source": [
    "cam = cv.VideoCapture(0)\n",
    "\n",
    "c = 1\n",
    "\n",
    "while True:\n",
    "\n",
    "    _, img = cam.read()\n",
    "    \n",
    "    img = cv.flip(img, 1) \n",
    "   \n",
    "    cv.imshow(\"Frame\",img)\n",
    "    \n",
    "    key = cv.waitKey(30)\n",
    "    \n",
    "    if (key == 13):  \n",
    "        cv.imwrite('Selfie/Selfie_' + str(c) + '.png', img) \n",
    "        c += 1   \n",
    "    \n",
    "    if (key == 27):\n",
    "        cam.release()\n",
    "        break"
   ]
  },
  {
   "cell_type": "markdown",
   "id": "ce290e08",
   "metadata": {},
   "source": [
    "## 2. Image Editing And Manipulation : Drawing Patterns"
   ]
  },
  {
   "cell_type": "markdown",
   "id": "bc31add9",
   "metadata": {},
   "source": [
    "## 3. Image Editing And Manipulation : Edge Detection"
   ]
  },
  {
   "cell_type": "code",
   "execution_count": 1,
   "id": "a9d04ef1",
   "metadata": {},
   "outputs": [],
   "source": [
    "import numpy as np\n",
    "import cv2 as cv\n",
    "\n",
    "cam = cv.VideoCapture(0)\n",
    "\n",
    "while True:\n",
    "    _ , img = cam.read()\n",
    "    \n",
    "    img = cv.flip(img, 1)\n",
    "    \n",
    "    edge = cv.Canny(img, 100, 200)\n",
    "    \n",
    "    cv.imshow(\"Frame\", img)\n",
    "    cv.imshow(\"Edges\", edge)\n",
    "    \n",
    "    if cv.waitKey(10) == 27:\n",
    "        cam.release()\n",
    "        break\n",
    "        cv.destroyAllWindows()"
   ]
  },
  {
   "cell_type": "markdown",
   "id": "e7ed6bef",
   "metadata": {},
   "source": [
    "### Edge Detection ( With Different Threshold Values)"
   ]
  },
  {
   "cell_type": "code",
   "execution_count": 1,
   "id": "7d15116f",
   "metadata": {},
   "outputs": [],
   "source": [
    "import numpy as np\n",
    "import cv2 as cv\n",
    "\n",
    "cam = cv.VideoCapture(0)\n",
    "\n",
    "while True:\n",
    "    _ , img = cam.read()\n",
    "    \n",
    "    img = cv.flip(img, 1)\n",
    "    \n",
    "    edge_1 = cv.Canny(img, 0, 50)\n",
    "    edge_2 = cv.Canny(img, 50, 100)\n",
    "    edge_3 = cv.Canny(img, 50, 150)\n",
    "    edge_4 = cv.Canny(img, 100, 200)\n",
    "    edge_5 = cv.Canny(img, 200, 250)\n",
    "    edge_6 = cv.Canny(img, 200, 300)\n",
    "    \n",
    "    cv.imshow(\"Frame\", img)\n",
    "    cv.imshow(\"Edges_1\", edge_1)\n",
    "    cv.imshow(\"Edges_2\", edge_2)\n",
    "    cv.imshow(\"Edges_3\", edge_3)\n",
    "    cv.imshow(\"Edges_4\", edge_4)\n",
    "    cv.imshow(\"Edges_5\", edge_5)\n",
    "    cv.imshow(\"Edges_6\", edge_6)\n",
    "    \n",
    "    if cv.waitKey(10) == 27:\n",
    "        cam.release()\n",
    "        break\n",
    "        cv.destroyAllWindows()"
   ]
  },
  {
   "cell_type": "markdown",
   "id": "ab594ebf",
   "metadata": {},
   "source": [
    "## 3. Image Editing And Manipulation : Brightness Control"
   ]
  },
  {
   "cell_type": "code",
   "execution_count": 2,
   "id": "728cef10",
   "metadata": {},
   "outputs": [],
   "source": [
    "pixels = float(10)\n",
    "\n",
    "cam = cv2.VideoCapture(0)\n",
    "\n",
    "while True:\n",
    "    \n",
    "    _, img = cam.read()\n",
    "    img = cv2.flip(img, 1)\n",
    "    \n",
    "    img_1 = img + pixels\n",
    "    img_1[img_1 <  0 ] = 0\n",
    "    img_1[img_1 > 255] = 255\n",
    "    img_1 = img_1.astype(np.uint8)\n",
    "    \n",
    "    img_2 = img + (2*pixels)\n",
    "    img_2[img_2 <  0 ] = 0\n",
    "    img_2[img_2 > 255] = 255\n",
    "    img_2 = img_2.astype(np.uint8)\n",
    "    \n",
    "    img_3 = img + (3*pixels)\n",
    "    img_3[img_3 <  0 ] = 0\n",
    "    img_3[img_3 > 255] = 255\n",
    "    img_3 = img_3.astype(np.uint8)\n",
    "    \n",
    "    \n",
    "    cv2.imshow(\"Original\",img)\n",
    "    cv2.imshow(\"Filter-1\",img_1)\n",
    "    cv2.imshow(\"Filter-2\",img_2)\n",
    "    cv2.imshow(\"Filter-3\",img_3)\n",
    "    \n",
    "    if cv2.waitKey(1) == 27:\n",
    "        cam.release()\n",
    "        break"
   ]
  },
  {
   "cell_type": "code",
   "execution_count": null,
   "id": "4c20d57f",
   "metadata": {},
   "outputs": [],
   "source": []
  }
 ],
 "metadata": {
  "kernelspec": {
   "display_name": "Python 3 (ipykernel)",
   "language": "python",
   "name": "python3"
  },
  "language_info": {
   "codemirror_mode": {
    "name": "ipython",
    "version": 3
   },
   "file_extension": ".py",
   "mimetype": "text/x-python",
   "name": "python",
   "nbconvert_exporter": "python",
   "pygments_lexer": "ipython3",
   "version": "3.9.7"
  }
 },
 "nbformat": 4,
 "nbformat_minor": 5
}
