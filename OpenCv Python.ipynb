{
 "cells": [
  {
   "cell_type": "markdown",
   "id": "309df21d",
   "metadata": {},
   "source": [
    "<h3 style=\"color: tomato;\"> Importing Libraries </h4>"
   ]
  },
  {
   "cell_type": "code",
   "execution_count": 1,
   "id": "f4b8ce0e",
   "metadata": {},
   "outputs": [],
   "source": [
    "import cv2\n",
    "import matplotlib.pyplot as plt\n",
    "import numpy as np"
   ]
  },
  {
   "cell_type": "markdown",
   "id": "329003ec",
   "metadata": {},
   "source": [
    "## 1. Frame Extraction : Capturing Selfie Through WebCam"
   ]
  },
  {
   "cell_type": "markdown",
   "id": "9334e56b",
   "metadata": {},
   "source": [
    "<h3>Taking A Selfie</h3>"
   ]
  },
  {
   "cell_type": "code",
   "execution_count": 2,
   "id": "d14fdb78",
   "metadata": {},
   "outputs": [],
   "source": [
    "cam = cv2.VideoCapture(0)\n",
    "while True:\n",
    "\n",
    "    _, img = cam.read()\n",
    "    \n",
    "    img = cv2.flip(img, 1) \n",
    "    \n",
    "    gray = cv2.cvtColor(img, cv2.COLOR_RGB2GRAY)\n",
    "    hsv  = cv2.cvtColor(img, cv2.COLOR_RGB2HSV)\n",
    "   \n",
    "    cv2.imshow(\"Frame\",img)\n",
    "    \n",
    "    key = cv2.waitKey(20)\n",
    "    \n",
    "    if (key == 13):\n",
    "        \n",
    "        cv2.imwrite('Selfie.png', img)\n",
    "        cv2.imwrite('Selfie_Gray.png', gray)\n",
    "        cv2.imwrite('Selfie_HSV.png', hsv)\n",
    "        cam.release()\n",
    "        \n",
    "        break"
   ]
  },
  {
   "cell_type": "markdown",
   "id": "67417c01",
   "metadata": {},
   "source": [
    "<h3>Taking Multiple Selfies</h3>"
   ]
  },
  {
   "cell_type": "code",
   "execution_count": 3,
   "id": "8a2000c1",
   "metadata": {},
   "outputs": [],
   "source": [
    "import cv2 as cv\n",
    "import matplotlib.pyplot as plt\n",
    "import numpy as np"
   ]
  },
  {
   "cell_type": "code",
   "execution_count": 4,
   "id": "45dd7c8b",
   "metadata": {},
   "outputs": [],
   "source": [
    "cam = cv.VideoCapture(0)\n",
    "\n",
    "c = 1\n",
    "\n",
    "while True:\n",
    "\n",
    "    _, img = cam.read()\n",
    "    \n",
    "    img = cv.flip(img, 1) \n",
    "   \n",
    "    cv.imshow(\"Frame\",img)\n",
    "    \n",
    "    key = cv.waitKey(30)\n",
    "    \n",
    "    if (key == 13):  \n",
    "        cv.imwrite('Selfie/Selfie_' + str(c) + '.png', img) \n",
    "        c += 1   \n",
    "    \n",
    "    if (key == 27):\n",
    "        cam.release()\n",
    "        break"
   ]
  },
  {
   "cell_type": "markdown",
   "id": "ce290e08",
   "metadata": {},
   "source": [
    "## 2. Image Editing And Manipulation : Drawing Patterns"
   ]
  },
  {
   "cell_type": "code",
   "execution_count": 1,
   "id": "64afe59e",
   "metadata": {},
   "outputs": [],
   "source": [
    "import numpy as np\n",
    "import cv2\n",
    "  \n",
    "img = np.zeros((400, 400, 3), dtype = \"uint8\")\n",
    "cv2.imshow('dark', img)\n",
    "  \n",
    "cv2.waitKey(0)\n",
    "cv2.destroyAllWindows()"
   ]
  },
  {
   "cell_type": "markdown",
   "id": "8255d57b",
   "metadata": {},
   "source": [
    "<h3>Draw a line : </h3></br>\n",
    "<code>cv2.line(imageObjectName, ('start_coordinates'), ('end_coordinates'), ('color_in_bgr'), 'line_thickness')</code>"
   ]
  },
  {
   "cell_type": "code",
   "execution_count": 2,
   "id": "4cc240e5",
   "metadata": {},
   "outputs": [],
   "source": [
    "img = np.zeros((400, 400, 3), dtype = \"uint8\")\n",
    "cv2.line(img, (20, 160), (100, 160), (0, 0, 255), 10)\n",
    "  \n",
    "cv2.imshow('dark', img)\n",
    "\n",
    "cv2.waitKey(0)\n",
    "cv2.destroyAllWindows()"
   ]
  },
  {
   "cell_type": "markdown",
   "id": "e84fa03f",
   "metadata": {},
   "source": [
    "<h3>Draw a Rectangle : </h3></br>\n",
    "<code>cv2.rectangle(imageObjectName, (‘top_left_vertex_coordinates’), (‘lower_right_vertex_coordinates’),(‘stroke_color_in_bgr’), ‘stroke_thickness’)</code>"
   ]
  },
  {
   "cell_type": "markdown",
   "id": "399bf706",
   "metadata": {},
   "source": [
    "<h3>Draw a circle : </h3></br>\n",
    "<code>cv2.circle(imageObjectName, (‘center_coordinates’), (‘circle_Radius’), (‘color_in_bgr’), ‘stroke_thickness’)</code>"
   ]
  },
  {
   "cell_type": "code",
   "execution_count": 3,
   "id": "afe666ed",
   "metadata": {},
   "outputs": [],
   "source": [
    "img = np.zeros((400, 400, 3), dtype = \"uint8\")\n",
    "  \n",
    "cv2.rectangle(img, (30, 30), (300, 200), (0, 255, 255), 5)\n",
    "  \n",
    "cv2.imshow('dark', img)\n",
    "  \n",
    "cv2.waitKey(0)\n",
    "cv2.destroyAllWindows()"
   ]
  },
  {
   "cell_type": "code",
   "execution_count": 4,
   "id": "1edb8f08",
   "metadata": {},
   "outputs": [],
   "source": [
    "img = np.zeros((400, 400, 3), dtype = \"uint8\")\n",
    "  \n",
    "cv2.circle(img, (200, 200), 80, (255, 0, 255), 3)\n",
    "cv2.circle(img, (200, 200), 30, (0, 0, 255), 3)\n",
    "  \n",
    "cv2.imshow('dark', img)\n",
    "  \n",
    "cv2.waitKey(0)\n",
    "cv2.destroyAllWindows()"
   ]
  },
  {
   "cell_type": "markdown",
   "id": "4f6f8e6e",
   "metadata": {},
   "source": [
    "<h3>Writing text : </h3></br>\n",
    "<code>cv2.putText(imageObjectName, ‘TextContent’, (‘text_starting_point_coordinates’), ‘fontToBeUsed’, ‘font_size’, (‘text_color’, ‘text_thickness’, ‘line_type’)</code>"
   ]
  },
  {
   "cell_type": "code",
   "execution_count": 5,
   "id": "968f64cb",
   "metadata": {},
   "outputs": [],
   "source": [
    "img = np.zeros((400, 400, 3), dtype = \"uint8\")\n",
    "  \n",
    "font = cv2.FONT_HERSHEY_SIMPLEX\n",
    "cv2.putText(img, 'GeeksForGeeks', (50, 50), font, 0.8, (0, 255, 0), 2, cv2.LINE_AA)\n",
    "  \n",
    "cv2.imshow('dark', img)\n",
    "  \n",
    "cv2.waitKey(0)\n",
    "cv2.destroyAllWindows()"
   ]
  },
  {
   "cell_type": "markdown",
   "id": "bc31add9",
   "metadata": {},
   "source": [
    "## 3. Image Editing And Manipulation : Edge Detection"
   ]
  },
  {
   "cell_type": "code",
   "execution_count": 1,
   "id": "a9d04ef1",
   "metadata": {},
   "outputs": [],
   "source": [
    "import numpy as np\n",
    "import cv2 as cv\n",
    "\n",
    "cam = cv.VideoCapture(0)\n",
    "\n",
    "while True:\n",
    "    _ , img = cam.read()\n",
    "    \n",
    "    img = cv.flip(img, 1)\n",
    "    \n",
    "    edge = cv.Canny(img, 100, 200)\n",
    "    \n",
    "    cv.imshow(\"Frame\", img)\n",
    "    cv.imshow(\"Edges\", edge)\n",
    "    \n",
    "    if cv.waitKey(10) == 27:\n",
    "        cam.release()\n",
    "        break\n",
    "        cv.destroyAllWindows()"
   ]
  },
  {
   "cell_type": "markdown",
   "id": "e7ed6bef",
   "metadata": {},
   "source": [
    "### Edge Detection ( With Different Threshold Values)"
   ]
  },
  {
   "cell_type": "code",
   "execution_count": 1,
   "id": "7d15116f",
   "metadata": {},
   "outputs": [],
   "source": [
    "import numpy as np\n",
    "import cv2 as cv\n",
    "\n",
    "cam = cv.VideoCapture(0)\n",
    "\n",
    "while True:\n",
    "    _ , img = cam.read()\n",
    "    \n",
    "    img = cv.flip(img, 1)\n",
    "    \n",
    "    edge_1 = cv.Canny(img, 0, 50)\n",
    "    edge_2 = cv.Canny(img, 50, 100)\n",
    "    edge_3 = cv.Canny(img, 50, 150)\n",
    "    edge_4 = cv.Canny(img, 100, 200)\n",
    "    edge_5 = cv.Canny(img, 200, 250)\n",
    "    edge_6 = cv.Canny(img, 200, 300)\n",
    "    \n",
    "    cv.imshow(\"Frame\", img)\n",
    "    cv.imshow(\"Edges_1\", edge_1)\n",
    "    cv.imshow(\"Edges_2\", edge_2)\n",
    "    cv.imshow(\"Edges_3\", edge_3)\n",
    "    cv.imshow(\"Edges_4\", edge_4)\n",
    "    cv.imshow(\"Edges_5\", edge_5)\n",
    "    cv.imshow(\"Edges_6\", edge_6)\n",
    "    \n",
    "    if cv.waitKey(10) == 27:\n",
    "        cam.release()\n",
    "        break\n",
    "        cv.destroyAllWindows()"
   ]
  },
  {
   "cell_type": "markdown",
   "id": "ab594ebf",
   "metadata": {},
   "source": [
    "## 3. Image Editing And Manipulation : Brightness Control"
   ]
  },
  {
   "cell_type": "code",
   "execution_count": 2,
   "id": "728cef10",
   "metadata": {},
   "outputs": [],
   "source": [
    "pixels = float(10)\n",
    "\n",
    "cam = cv2.VideoCapture(0)\n",
    "\n",
    "while True:\n",
    "    \n",
    "    _, img = cam.read()\n",
    "    img = cv2.flip(img, 1)\n",
    "    \n",
    "    img_1 = img + pixels\n",
    "    img_1[img_1 <  0 ] = 0\n",
    "    img_1[img_1 > 255] = 255\n",
    "    img_1 = img_1.astype(np.uint8)\n",
    "    \n",
    "    img_2 = img + (2*pixels)\n",
    "    img_2[img_2 <  0 ] = 0\n",
    "    img_2[img_2 > 255] = 255\n",
    "    img_2 = img_2.astype(np.uint8)\n",
    "    \n",
    "    img_3 = img + (3*pixels)\n",
    "    img_3[img_3 <  0 ] = 0\n",
    "    img_3[img_3 > 255] = 255\n",
    "    img_3 = img_3.astype(np.uint8)\n",
    "    \n",
    "    \n",
    "    cv2.imshow(\"Original\",img)\n",
    "    cv2.imshow(\"Filter-1\",img_1)\n",
    "    cv2.imshow(\"Filter-2\",img_2)\n",
    "    cv2.imshow(\"Filter-3\",img_3)\n",
    "    \n",
    "    if cv2.waitKey(1) == 27:\n",
    "        cam.release()\n",
    "        break"
   ]
  },
  {
   "cell_type": "code",
   "execution_count": null,
   "id": "4c20d57f",
   "metadata": {},
   "outputs": [],
   "source": []
  }
 ],
 "metadata": {
  "kernelspec": {
   "display_name": "Python 3 (ipykernel)",
   "language": "python",
   "name": "python3"
  },
  "language_info": {
   "codemirror_mode": {
    "name": "ipython",
    "version": 3
   },
   "file_extension": ".py",
   "mimetype": "text/x-python",
   "name": "python",
   "nbconvert_exporter": "python",
   "pygments_lexer": "ipython3",
   "version": "3.9.7"
  }
 },
 "nbformat": 4,
 "nbformat_minor": 5
}
